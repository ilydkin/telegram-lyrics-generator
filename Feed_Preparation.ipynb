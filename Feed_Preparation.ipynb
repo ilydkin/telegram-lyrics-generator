{
 "cells": [
  {
   "cell_type": "markdown",
   "id": "ed1a28da",
   "metadata": {
    "tags": []
   },
   "source": [
    "### Parameters\n",
    "- Source: https://www.azlyrics.com/\n",
    "- Artist: Manowar"
   ]
  },
  {
   "cell_type": "code",
   "execution_count": 3,
   "id": "2de4eb86-0a1e-4d49-b80b-f373128a0700",
   "metadata": {},
   "outputs": [],
   "source": [
    "import requests\n",
    "from bs4 import BeautifulSoup\n",
    "import time\n",
    "import sqlite3\n",
    "from datetime import datetime\n",
    "import pandas as pd"
   ]
  },
  {
   "cell_type": "markdown",
   "id": "8b388249-4ebd-4385-88bb-72100174ad4a",
   "metadata": {},
   "source": [
    "### Reaching the source"
   ]
  },
  {
   "cell_type": "code",
   "execution_count": 4,
   "id": "0b8d2fc4-4af8-4585-9872-2b5a3c6c787e",
   "metadata": {},
   "outputs": [
    {
     "data": {
      "text/plain": [
       "200"
      ]
     },
     "execution_count": 4,
     "metadata": {},
     "output_type": "execute_result"
    }
   ],
   "source": [
    "url = 'https://www.azlyrics.com/m/manowar.html'\n",
    "songs_list = requests.get(url)\n",
    "songs_list.status_code"
   ]
  },
  {
   "cell_type": "markdown",
   "id": "753cf0e1-9677-401e-8470-3a27feea46e8",
   "metadata": {},
   "source": [
    "### Pre-processing"
   ]
  },
  {
   "cell_type": "code",
   "execution_count": 5,
   "id": "943784fd-1e06-43d8-a51c-7810b00c73bb",
   "metadata": {},
   "outputs": [
    {
     "data": {
      "text/plain": [
       "137"
      ]
     },
     "execution_count": 5,
     "metadata": {},
     "output_type": "execute_result"
    }
   ],
   "source": [
    "#Fetching the songs\n",
    "the_page = requests.get('https://www.azlyrics.com/m/manowar.html')\n",
    "\n",
    "songs_soup = BeautifulSoup(the_page.content, \"html.parser\")\n",
    "\n",
    "songs_list = []\n",
    "for a in songs_soup.find_all('a'):\n",
    "    if str(a).find('lyrics/manowar') != -1:\n",
    "        song_url = \"https://www.azlyrics.com\" + str(a['href'])\n",
    "        songs_list.append(song_url)\n",
    "\n",
    "songs_list = list(set(songs_list))\n",
    "len(songs_list)"
   ]
  },
  {
   "cell_type": "code",
   "execution_count": 6,
   "id": "a4f61f9a-510a-401d-9515-ed07138d5d61",
   "metadata": {},
   "outputs": [],
   "source": [
    "#Text normalization function\n",
    "def replace_all(text, to_replace):\n",
    "    for i in to_replace:\n",
    "        text = text.replace(i, ' ')\n",
    "    return text"
   ]
  },
  {
   "cell_type": "code",
   "execution_count": 8,
   "id": "a4b95d0e",
   "metadata": {},
   "outputs": [
    {
     "name": "stdout",
     "output_type": "stream",
     "text": [
      "parsed: 1\n",
      "parsed: 2\n",
      "parsed: 3\n",
      "parsed: 4\n",
      "parsed: 5\n",
      "parsed: 6\n",
      "parsed: 7\n",
      "parsed: 8\n",
      "parsed: 9\n",
      "parsed: 10\n",
      "parsed: 11\n",
      "parsed: 12\n",
      "parsed: 13\n",
      "parsed: 14\n",
      "parsed: 15\n",
      "parsed: 16\n",
      "parsed: 17\n",
      "parsed: 18\n",
      "parsed: 19\n",
      "parsed: 20\n",
      "parsed: 21\n",
      "parsed: 22\n",
      "parsed: 23\n",
      "parsed: 24\n",
      "parsed: 25\n",
      "parsed: 26\n",
      "parsed: 27\n",
      "parsed: 28\n",
      "parsed: 29\n",
      "parsed: 30\n",
      "parsed: 31\n",
      "parsed: 32\n",
      "parsed: 33\n",
      "parsed: 34\n",
      "parsed: 35\n",
      "parsed: 36\n",
      "parsed: 37\n",
      "parsed: 38\n",
      "parsed: 39\n",
      "parsed: 40\n",
      "parsed: 41\n",
      "parsed: 42\n",
      "parsed: 43\n",
      "parsed: 44\n",
      "parsed: 45\n",
      "parsed: 46\n",
      "parsed: 47\n",
      "parsed: 48\n",
      "parsed: 49\n",
      "parsed: 50\n",
      "parsed: 51\n",
      "parsed: 52\n",
      "parsed: 53\n",
      "parsed: 54\n",
      "parsed: 55\n",
      "parsed: 56\n",
      "parsed: 57\n",
      "parsed: 58\n",
      "parsed: 59\n",
      "parsed: 60\n",
      "parsed: 61\n",
      "parsed: 62\n",
      "parsed: 63\n",
      "parsed: 64\n",
      "parsed: 65\n",
      "parsed: 66\n",
      "parsed: 67\n",
      "parsed: 68\n",
      "parsed: 69\n",
      "parsed: 70\n",
      "parsed: 71\n",
      "parsed: 72\n",
      "parsed: 73\n",
      "parsed: 74\n",
      "parsed: 75\n",
      "parsed: 76\n",
      "parsed: 77\n",
      "parsed: 78\n",
      "parsed: 79\n",
      "parsed: 80\n",
      "parsed: 81\n",
      "parsed: 82\n",
      "parsed: 83\n",
      "parsed: 84\n",
      "parsed: 85\n",
      "parsed: 86\n",
      "parsed: 87\n",
      "parsed: 88\n",
      "parsed: 89\n",
      "parsed: 90\n",
      "parsed: 91\n",
      "parsed: 92\n",
      "parsed: 93\n",
      "parsed: 94\n",
      "parsed: 95\n",
      "parsed: 96\n",
      "parsed: 97\n",
      "parsed: 98\n",
      "parsed: 99\n",
      "parsed: 100\n",
      "parsed: 101\n",
      "parsed: 102\n",
      "parsed: 103\n",
      "parsed: 104\n",
      "parsed: 105\n",
      "parsed: 106\n",
      "parsed: 107\n",
      "parsed: 108\n",
      "parsed: 109\n",
      "parsed: 110\n",
      "parsed: 111\n",
      "parsed: 112\n",
      "parsed: 113\n",
      "parsed: 114\n",
      "parsed: 115\n",
      "parsed: 116\n",
      "parsed: 117\n",
      "parsed: 118\n",
      "parsed: 119\n",
      "parsed: 120\n",
      "parsed: 121\n",
      "parsed: 122\n",
      "parsed: 123\n",
      "parsed: 124\n",
      "parsed: 125\n",
      "parsed: 126\n",
      "parsed: 127\n",
      "parsed: 128\n",
      "parsed: 129\n",
      "parsed: 130\n",
      "parsed: 131\n",
      "parsed: 132\n",
      "parsed: 133\n",
      "parsed: 134\n",
      "parsed: 135\n",
      "parsed: 136\n",
      "parsed: 137\n"
     ]
    }
   ],
   "source": [
    "#Parsing and normalizing the songs\n",
    "parsed_songs = []\n",
    "\n",
    "for song_url in songs_list:\n",
    "    song_req = requests.get(song_url)\n",
    "    song_soup= BeautifulSoup(song_req.content, 'html.parser')\n",
    "    \n",
    "    the_text = []\n",
    "    for string in song_soup.strings:\n",
    "        if len(string) > 3 and '\\n' in string:\n",
    "            the_text.append(string)\n",
    "            \n",
    "    the_song = ''.join(the_text)\n",
    "    the_song = replace_all(the_song, '\\r')\n",
    "    the_song = the_song.lower()\n",
    "    parsed_songs.append(the_song)\n",
    "                                          \n",
    "    print ('parsed:', len(parsed_songs))\n",
    "    \n",
    "    if len(parsed_songs) % 2 == 0:\n",
    "        time.sleep(5)\n",
    "    else:\n",
    "        time.sleep(3)                                  "
   ]
  },
  {
   "cell_type": "code",
   "execution_count": 18,
   "id": "d99fd1da",
   "metadata": {},
   "outputs": [
    {
     "data": {
      "text/plain": [
       "99"
      ]
     },
     "execution_count": 18,
     "metadata": {},
     "output_type": "execute_result"
    }
   ],
   "source": [
    "#Restricting the list down to the successfuly fetched songs\n",
    "parsed_songs_cut = parsed_songs[:99]\n",
    "len(parsed_songs_cut)"
   ]
  },
  {
   "cell_type": "code",
   "execution_count": 257,
   "id": "c88a6930",
   "metadata": {},
   "outputs": [
    {
     "name": "stdout",
     "output_type": "stream",
     "text": [
      " \n",
      "Beni küçükken\n",
      "Elimden tuttun\n",
      "Baba, bil isterim\n",
      "Şimdi anladım\n",
      "Suçtan hakkı böldün\n",
      "Örnek oldun\n",
      "Verdiğin bağış\n",
      "Hepten üstün\n",
      "Beni hiç kırmadın\n",
      "Güçlendirdin\n",
      "Yanlışım da olsa\n",
      "Hatam olsa\n",
      "Hem sevinir, hem\n",
      "Savaşırdık\n",
      "Sen yine bilirdin\n",
      "Doğru olan sen\n",
      "Benimlesin\n",
      "Sözlerimde\n",
      "Geçen zaman\n",
      "Günün her vaktinde\n",
      "Var olmam\n",
      "Senin sayende\n",
      "Bizlere yaşadın\n",
      "Simdiye dek\n",
      "O sağlam ellerin\n",
      "Toprağı işletir\n",
      "O sağlam ellerin\n",
      "Almayıp verir\n",
      "Senin sayende\n",
      "Hayatı bildim\n",
      "Benimlesin\n",
      "Sözlerimde\n",
      "Geçen zaman\n",
      "Günün her vaktinde\n",
      "Var olmam\n",
      "Senin sayende\n",
      "Baba, ben ve sen\n",
      "Biliriz ki\n",
      "Bana dedigin her söz doğru\n",
      "\n"
     ]
    },
    {
     "data": {
      "text/plain": [
       "84"
      ]
     },
     "execution_count": 257,
     "metadata": {},
     "output_type": "execute_result"
    }
   ],
   "source": [
    "#Manually stripping the list from texts other than English\n",
    "print (parsed_songs_cut.pop(83))\n",
    "len(parsed_songs_cut)"
   ]
  },
  {
   "cell_type": "markdown",
   "id": "3c7093d5-a852-4343-b9b7-fc7b878eac43",
   "metadata": {},
   "source": [
    "### Sample to .csv "
   ]
  },
  {
   "cell_type": "code",
   "execution_count": 266,
   "id": "91ece151",
   "metadata": {},
   "outputs": [],
   "source": [
    "df = pd.DataFrame()\n",
    "df['text'] = parsed_eng * 10\n",
    "df['artist'] = 'Manowar'\n",
    "df = df[['artist','text']]\n",
    "df.to_csv('data/songdata.csv', index=False)"
   ]
  }
 ],
 "metadata": {
  "kernelspec": {
   "display_name": "Python 3 (ipykernel)",
   "language": "python",
   "name": "python3"
  },
  "language_info": {
   "codemirror_mode": {
    "name": "ipython",
    "version": 3
   },
   "file_extension": ".py",
   "mimetype": "text/x-python",
   "name": "python",
   "nbconvert_exporter": "python",
   "pygments_lexer": "ipython3",
   "version": "3.9.12"
  },
  "toc-autonumbering": true
 },
 "nbformat": 4,
 "nbformat_minor": 5
}
